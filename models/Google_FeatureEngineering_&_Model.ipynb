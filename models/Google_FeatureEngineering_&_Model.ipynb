{
 "cells": [
  {
   "cell_type": "markdown",
   "metadata": {},
   "source": [
    "Feature Engineering and Model Training"
   ]
  },
  {
   "cell_type": "markdown",
   "metadata": {},
   "source": [
    "Going to make use a recurrent neurel network called LSTM (Long short term memory) for modelling stock price data as the data is sequential. As stock price data is sequential, where each data point depends on the previous ones. RNNs are designed to capture temporal dependencies, making them well-suited for modeling and predicting time series data."
   ]
  },
  {
   "cell_type": "markdown",
   "metadata": {},
   "source": [
    "Going to use the stock market prediction using LSTM recurrent neural network paper by Adil Moghar and Mhamed Hamiche as reference (https://www.sciencedirect.com/science/article/pii/S1877050920304865) to make my own model."
   ]
  },
  {
   "cell_type": "code",
   "execution_count": 80,
   "metadata": {},
   "outputs": [],
   "source": [
    "# Data processing libraries\n",
    "import pandas as pd\n",
    "import numpy as np\n",
    "import matplotlib.pyplot as plt\n",
    "from matplotlib.patches import Ellipse\n",
    "from datetime import datetime\n",
    "\n",
    "# Data processing\n",
    "from sklearn.preprocessing import MinMaxScaler\n",
    "\n",
    "# Model and measure metrics\n",
    "from sklearn.metrics import mean_squared_error, mean_absolute_error\n",
    "\n",
    "#Model\n",
    "from keras.models import Sequential\n",
    "from keras.layers import LSTM\n",
    "from keras.layers import Dropout\n",
    "from keras.layers import Dense"
   ]
  },
  {
   "cell_type": "markdown",
   "metadata": {},
   "source": [
    "Going to create a model for the google stock price dataset"
   ]
  },
  {
   "cell_type": "code",
   "execution_count": 81,
   "metadata": {},
   "outputs": [],
   "source": [
    "traindf = pd.read_csv('../datasets/GOOG.csv')\n",
    "\n",
    "testdf = pd.read_csv('../datasets/GOOG_Test.csv')"
   ]
  },
  {
   "cell_type": "code",
   "execution_count": 82,
   "metadata": {},
   "outputs": [],
   "source": [
    "traindf.Date = pd.to_datetime(traindf['Date'])\n",
    "traindf = traindf.set_index('Date')\n",
    "\n",
    "testdf.Date = pd.to_datetime(testdf['Date'])\n",
    "testdf = testdf.set_index('Date')"
   ]
  },
  {
   "cell_type": "code",
   "execution_count": 83,
   "metadata": {},
   "outputs": [],
   "source": [
    "traindf = traindf.drop(['Close'], axis='columns')\n",
    "traindf = traindf.rename(columns={'Adj Close': 'Close'})"
   ]
  },
  {
   "cell_type": "code",
   "execution_count": 84,
   "metadata": {},
   "outputs": [],
   "source": [
    "train_dates = traindf.index\n",
    "test_dates = testdf.index"
   ]
  },
  {
   "cell_type": "code",
   "execution_count": 85,
   "metadata": {},
   "outputs": [],
   "source": [
    "train = np.array(traindf.Close)\n",
    "test = np.array(testdf.Close)\n",
    "\n",
    "train = train.reshape(-1,1)\n",
    "test = test.reshape(-1,1)"
   ]
  },
  {
   "cell_type": "markdown",
   "metadata": {},
   "source": []
  },
  {
   "cell_type": "code",
   "execution_count": 86,
   "metadata": {},
   "outputs": [],
   "source": [
    "sc = MinMaxScaler(feature_range=(0,1))\n",
    "train = sc.fit_transform(train)\n",
    "test = sc.transform(test)"
   ]
  },
  {
   "cell_type": "code",
   "execution_count": 87,
   "metadata": {},
   "outputs": [
    {
     "data": {
      "text/plain": [
       "(1510, 251)"
      ]
     },
     "execution_count": 87,
     "metadata": {},
     "output_type": "execute_result"
    }
   ],
   "source": [
    "len(train), len(test)"
   ]
  },
  {
   "cell_type": "markdown",
   "metadata": {},
   "source": [
    "Need to convert the data into supervised format for neural network. So data needs to be in (x,y) format where x are the features and y is the target. As time series data is sequential the features x are the number of previous days prices we use to predict next days price."
   ]
  },
  {
   "cell_type": "markdown",
   "metadata": {},
   "source": [
    "Going to use past 60 days as features as look back so, x(t-60), x(t-59), ... , x(t-1) will give x(t) which is y(t) "
   ]
  },
  {
   "cell_type": "code",
   "execution_count": 88,
   "metadata": {},
   "outputs": [],
   "source": [
    "look_back = 60"
   ]
  },
  {
   "cell_type": "code",
   "execution_count": 89,
   "metadata": {},
   "outputs": [],
   "source": [
    "def preprocess_data(dataset,step):\n",
    "    X = []\n",
    "    Y = []\n",
    "    for i in range(step, len(dataset)):\n",
    "        X.append(dataset[i-step:i, 0])\n",
    "        Y.append(dataset[i, 0])\n",
    "    X, Y = np.array(X), np.array(Y)\n",
    "    X = np.reshape(X, (X.shape[0], X.shape[1], 1))\n",
    "    return X, Y"
   ]
  },
  {
   "cell_type": "code",
   "execution_count": 90,
   "metadata": {},
   "outputs": [],
   "source": [
    "X_train, y_train = preprocess_data(train,look_back)\n",
    "X_test, y_test = preprocess_data(test, look_back)"
   ]
  },
  {
   "cell_type": "code",
   "execution_count": 91,
   "metadata": {},
   "outputs": [
    {
     "name": "stdout",
     "output_type": "stream",
     "text": [
      "Epoch 1/100\n",
      "46/46 [==============================] - 5s 35ms/step - loss: 0.0207\n",
      "Epoch 2/100\n",
      "46/46 [==============================] - 2s 34ms/step - loss: 0.0047\n",
      "Epoch 3/100\n",
      "46/46 [==============================] - 2s 35ms/step - loss: 0.0043\n",
      "Epoch 4/100\n",
      "46/46 [==============================] - 2s 35ms/step - loss: 0.0040\n",
      "Epoch 5/100\n",
      "46/46 [==============================] - 2s 36ms/step - loss: 0.0036\n",
      "Epoch 6/100\n",
      "46/46 [==============================] - 2s 36ms/step - loss: 0.0040\n",
      "Epoch 7/100\n",
      "46/46 [==============================] - 2s 35ms/step - loss: 0.0036\n",
      "Epoch 8/100\n",
      "46/46 [==============================] - 2s 35ms/step - loss: 0.0039\n",
      "Epoch 9/100\n",
      "46/46 [==============================] - 2s 36ms/step - loss: 0.0032\n",
      "Epoch 10/100\n",
      "46/46 [==============================] - 2s 35ms/step - loss: 0.0032\n",
      "Epoch 11/100\n",
      "46/46 [==============================] - 2s 35ms/step - loss: 0.0037\n",
      "Epoch 12/100\n",
      "46/46 [==============================] - 2s 36ms/step - loss: 0.0028\n",
      "Epoch 13/100\n",
      "46/46 [==============================] - 2s 36ms/step - loss: 0.0030\n",
      "Epoch 14/100\n",
      "46/46 [==============================] - 2s 36ms/step - loss: 0.0032\n",
      "Epoch 15/100\n",
      "46/46 [==============================] - 2s 37ms/step - loss: 0.0028\n",
      "Epoch 16/100\n",
      "46/46 [==============================] - 2s 37ms/step - loss: 0.0028\n",
      "Epoch 17/100\n",
      "46/46 [==============================] - 2s 37ms/step - loss: 0.0025\n",
      "Epoch 18/100\n",
      "46/46 [==============================] - 2s 36ms/step - loss: 0.0028\n",
      "Epoch 19/100\n",
      "46/46 [==============================] - 2s 37ms/step - loss: 0.0022\n",
      "Epoch 20/100\n",
      "46/46 [==============================] - 2s 37ms/step - loss: 0.0021\n",
      "Epoch 21/100\n",
      "46/46 [==============================] - 2s 38ms/step - loss: 0.0024\n",
      "Epoch 22/100\n",
      "46/46 [==============================] - 2s 43ms/step - loss: 0.0025\n",
      "Epoch 23/100\n",
      "46/46 [==============================] - 1s 32ms/step - loss: 0.0024\n",
      "Epoch 24/100\n",
      "46/46 [==============================] - 2s 34ms/step - loss: 0.0023\n",
      "Epoch 25/100\n",
      "46/46 [==============================] - 2s 33ms/step - loss: 0.0021\n",
      "Epoch 26/100\n",
      "46/46 [==============================] - 1s 32ms/step - loss: 0.0022\n",
      "Epoch 27/100\n",
      "46/46 [==============================] - 2s 37ms/step - loss: 0.0025\n",
      "Epoch 28/100\n",
      "46/46 [==============================] - 2s 35ms/step - loss: 0.0020\n",
      "Epoch 29/100\n",
      "46/46 [==============================] - 2s 34ms/step - loss: 0.0021\n",
      "Epoch 30/100\n",
      "46/46 [==============================] - 2s 34ms/step - loss: 0.0022\n",
      "Epoch 31/100\n",
      "46/46 [==============================] - 2s 35ms/step - loss: 0.0021\n",
      "Epoch 32/100\n",
      "46/46 [==============================] - 2s 33ms/step - loss: 0.0019\n",
      "Epoch 33/100\n",
      "46/46 [==============================] - 1s 32ms/step - loss: 0.0023\n",
      "Epoch 34/100\n",
      "46/46 [==============================] - 2s 33ms/step - loss: 0.0019\n",
      "Epoch 35/100\n",
      "46/46 [==============================] - 1s 32ms/step - loss: 0.0019\n",
      "Epoch 36/100\n",
      "46/46 [==============================] - 1s 32ms/step - loss: 0.0021\n",
      "Epoch 37/100\n",
      "46/46 [==============================] - 1s 32ms/step - loss: 0.0021\n",
      "Epoch 38/100\n",
      "46/46 [==============================] - 1s 32ms/step - loss: 0.0019\n",
      "Epoch 39/100\n",
      "46/46 [==============================] - 1s 31ms/step - loss: 0.0018\n",
      "Epoch 40/100\n",
      "46/46 [==============================] - 1s 31ms/step - loss: 0.0021\n",
      "Epoch 41/100\n",
      "46/46 [==============================] - 1s 32ms/step - loss: 0.0017\n",
      "Epoch 42/100\n",
      "46/46 [==============================] - 1s 32ms/step - loss: 0.0021\n",
      "Epoch 43/100\n",
      "46/46 [==============================] - 1s 32ms/step - loss: 0.0017\n",
      "Epoch 44/100\n",
      "46/46 [==============================] - 1s 31ms/step - loss: 0.0018\n",
      "Epoch 45/100\n",
      "46/46 [==============================] - 1s 31ms/step - loss: 0.0016\n",
      "Epoch 46/100\n",
      "46/46 [==============================] - 1s 32ms/step - loss: 0.0017\n",
      "Epoch 47/100\n",
      "46/46 [==============================] - 1s 32ms/step - loss: 0.0018\n",
      "Epoch 48/100\n",
      "46/46 [==============================] - 1s 32ms/step - loss: 0.0018\n",
      "Epoch 49/100\n",
      "46/46 [==============================] - 1s 32ms/step - loss: 0.0016\n",
      "Epoch 50/100\n",
      "46/46 [==============================] - 1s 31ms/step - loss: 0.0018\n",
      "Epoch 51/100\n",
      "46/46 [==============================] - 1s 32ms/step - loss: 0.0016\n",
      "Epoch 52/100\n",
      "46/46 [==============================] - 1s 31ms/step - loss: 0.0019\n",
      "Epoch 53/100\n",
      "46/46 [==============================] - 1s 32ms/step - loss: 0.0016\n",
      "Epoch 54/100\n",
      "46/46 [==============================] - 1s 31ms/step - loss: 0.0015\n",
      "Epoch 55/100\n",
      "46/46 [==============================] - 1s 32ms/step - loss: 0.0014\n",
      "Epoch 56/100\n",
      "46/46 [==============================] - 2s 38ms/step - loss: 0.0015\n",
      "Epoch 57/100\n",
      "46/46 [==============================] - 2s 43ms/step - loss: 0.0016\n",
      "Epoch 58/100\n",
      "46/46 [==============================] - 2s 36ms/step - loss: 0.0015\n",
      "Epoch 59/100\n",
      "46/46 [==============================] - 2s 36ms/step - loss: 0.0014\n",
      "Epoch 60/100\n",
      "46/46 [==============================] - 2s 36ms/step - loss: 0.0015\n",
      "Epoch 61/100\n",
      "46/46 [==============================] - 2s 36ms/step - loss: 0.0014\n",
      "Epoch 62/100\n",
      "46/46 [==============================] - 2s 35ms/step - loss: 0.0016\n",
      "Epoch 63/100\n",
      "46/46 [==============================] - 2s 36ms/step - loss: 0.0016\n",
      "Epoch 64/100\n",
      "46/46 [==============================] - 2s 35ms/step - loss: 0.0013\n",
      "Epoch 65/100\n",
      "46/46 [==============================] - 2s 35ms/step - loss: 0.0014\n",
      "Epoch 66/100\n",
      "46/46 [==============================] - 2s 35ms/step - loss: 0.0015\n",
      "Epoch 67/100\n",
      "46/46 [==============================] - 2s 36ms/step - loss: 0.0014\n",
      "Epoch 68/100\n",
      "46/46 [==============================] - 2s 36ms/step - loss: 0.0017\n",
      "Epoch 69/100\n",
      "46/46 [==============================] - 2s 35ms/step - loss: 0.0013\n",
      "Epoch 70/100\n",
      "46/46 [==============================] - 2s 36ms/step - loss: 0.0014\n",
      "Epoch 71/100\n",
      "46/46 [==============================] - 2s 36ms/step - loss: 0.0013\n",
      "Epoch 72/100\n",
      "46/46 [==============================] - 2s 36ms/step - loss: 0.0012\n",
      "Epoch 73/100\n",
      "46/46 [==============================] - 2s 36ms/step - loss: 0.0014\n",
      "Epoch 74/100\n",
      "46/46 [==============================] - 2s 35ms/step - loss: 0.0014\n",
      "Epoch 75/100\n",
      "46/46 [==============================] - 2s 36ms/step - loss: 0.0013\n",
      "Epoch 76/100\n",
      "46/46 [==============================] - 2s 36ms/step - loss: 0.0012\n",
      "Epoch 77/100\n",
      "46/46 [==============================] - 2s 36ms/step - loss: 0.0013\n",
      "Epoch 78/100\n",
      "46/46 [==============================] - 2s 37ms/step - loss: 0.0013\n",
      "Epoch 79/100\n",
      "46/46 [==============================] - 2s 34ms/step - loss: 0.0013\n",
      "Epoch 80/100\n",
      "46/46 [==============================] - 2s 34ms/step - loss: 0.0014\n",
      "Epoch 81/100\n",
      "46/46 [==============================] - 2s 36ms/step - loss: 0.0012\n",
      "Epoch 82/100\n",
      "46/46 [==============================] - 2s 36ms/step - loss: 0.0013\n",
      "Epoch 83/100\n",
      "46/46 [==============================] - 2s 36ms/step - loss: 0.0013\n",
      "Epoch 84/100\n",
      "46/46 [==============================] - 2s 35ms/step - loss: 0.0011\n",
      "Epoch 85/100\n",
      "46/46 [==============================] - 2s 35ms/step - loss: 0.0013\n",
      "Epoch 86/100\n",
      "46/46 [==============================] - 2s 35ms/step - loss: 0.0011\n",
      "Epoch 87/100\n",
      "46/46 [==============================] - 2s 36ms/step - loss: 0.0011\n",
      "Epoch 88/100\n",
      "46/46 [==============================] - 2s 35ms/step - loss: 0.0012\n",
      "Epoch 89/100\n",
      "46/46 [==============================] - 2s 35ms/step - loss: 0.0012\n",
      "Epoch 90/100\n",
      "46/46 [==============================] - 2s 36ms/step - loss: 0.0013\n",
      "Epoch 91/100\n",
      "46/46 [==============================] - 2s 35ms/step - loss: 0.0011\n",
      "Epoch 92/100\n",
      "46/46 [==============================] - 2s 35ms/step - loss: 0.0013\n",
      "Epoch 93/100\n",
      "46/46 [==============================] - 2s 35ms/step - loss: 0.0012\n",
      "Epoch 94/100\n",
      "46/46 [==============================] - 2s 36ms/step - loss: 0.0012\n",
      "Epoch 95/100\n",
      "46/46 [==============================] - 2s 35ms/step - loss: 0.0011\n",
      "Epoch 96/100\n",
      "46/46 [==============================] - 2s 35ms/step - loss: 0.0013\n",
      "Epoch 97/100\n",
      "46/46 [==============================] - 2s 35ms/step - loss: 0.0011\n",
      "Epoch 98/100\n",
      "46/46 [==============================] - 2s 35ms/step - loss: 9.8643e-04\n",
      "Epoch 99/100\n",
      "46/46 [==============================] - 2s 35ms/step - loss: 0.0012\n",
      "Epoch 100/100\n",
      "46/46 [==============================] - 2s 35ms/step - loss: 0.0012\n"
     ]
    },
    {
     "data": {
      "text/plain": [
       "<keras.src.callbacks.History at 0x7fc344e2da50>"
      ]
     },
     "execution_count": 91,
     "metadata": {},
     "output_type": "execute_result"
    }
   ],
   "source": [
    "model = Sequential()\n",
    "model.add(LSTM(units=50,return_sequences=True,input_shape=(X_train.shape[1], 1)))\n",
    "model.add(Dropout(0.2))\n",
    "model.add(LSTM(units=50,return_sequences=True))\n",
    "model.add(Dropout(0.2))\n",
    "model.add(LSTM(units=50,return_sequences=True))\n",
    "model.add(Dropout(0.2))\n",
    "model.add(LSTM(units=50))\n",
    "model.add(Dropout(0.2))\n",
    "model.add(Dense(units=1))\n",
    "model.compile(optimizer='adam',loss='mean_squared_error')\n",
    "model.fit(X_train,y_train,epochs=100,batch_size=32)"
   ]
  },
  {
   "cell_type": "code",
   "execution_count": 92,
   "metadata": {},
   "outputs": [
    {
     "name": "stdout",
     "output_type": "stream",
     "text": [
      "Model: \"sequential_3\"\n",
      "_________________________________________________________________\n",
      " Layer (type)                Output Shape              Param #   \n",
      "=================================================================\n",
      " lstm_12 (LSTM)              (None, 60, 50)            10400     \n",
      "                                                                 \n",
      " dropout_12 (Dropout)        (None, 60, 50)            0         \n",
      "                                                                 \n",
      " lstm_13 (LSTM)              (None, 60, 50)            20200     \n",
      "                                                                 \n",
      " dropout_13 (Dropout)        (None, 60, 50)            0         \n",
      "                                                                 \n",
      " lstm_14 (LSTM)              (None, 60, 50)            20200     \n",
      "                                                                 \n",
      " dropout_14 (Dropout)        (None, 60, 50)            0         \n",
      "                                                                 \n",
      " lstm_15 (LSTM)              (None, 50)                20200     \n",
      "                                                                 \n",
      " dropout_15 (Dropout)        (None, 50)                0         \n",
      "                                                                 \n",
      " dense_3 (Dense)             (None, 1)                 51        \n",
      "                                                                 \n",
      "=================================================================\n",
      "Total params: 71051 (277.54 KB)\n",
      "Trainable params: 71051 (277.54 KB)\n",
      "Non-trainable params: 0 (0.00 Byte)\n",
      "_________________________________________________________________\n"
     ]
    }
   ],
   "source": [
    "model.summary()"
   ]
  },
  {
   "cell_type": "code",
   "execution_count": 93,
   "metadata": {},
   "outputs": [
    {
     "data": {
      "text/plain": [
       "(60, 1)"
      ]
     },
     "execution_count": 93,
     "metadata": {},
     "output_type": "execute_result"
    }
   ],
   "source": [
    "np.array(train[len(train)-look_back:]).shape"
   ]
  },
  {
   "cell_type": "code",
   "execution_count": 94,
   "metadata": {},
   "outputs": [
    {
     "data": {
      "text/plain": [
       "(251, 1)"
      ]
     },
     "execution_count": 94,
     "metadata": {},
     "output_type": "execute_result"
    }
   ],
   "source": [
    "np.array(test).shape"
   ]
  },
  {
   "cell_type": "code",
   "execution_count": 95,
   "metadata": {},
   "outputs": [
    {
     "name": "stdout",
     "output_type": "stream",
     "text": [
      "6/6 [==============================] - 1s 12ms/step\n"
     ]
    },
    {
     "data": {
      "text/html": [
       "<div>\n",
       "<style scoped>\n",
       "    .dataframe tbody tr th:only-of-type {\n",
       "        vertical-align: middle;\n",
       "    }\n",
       "\n",
       "    .dataframe tbody tr th {\n",
       "        vertical-align: top;\n",
       "    }\n",
       "\n",
       "    .dataframe thead th {\n",
       "        text-align: right;\n",
       "    }\n",
       "</style>\n",
       "<table border=\"1\" class=\"dataframe\">\n",
       "  <thead>\n",
       "    <tr style=\"text-align: right;\">\n",
       "      <th></th>\n",
       "      <th>0</th>\n",
       "    </tr>\n",
       "    <tr>\n",
       "      <th>Date</th>\n",
       "      <th></th>\n",
       "    </tr>\n",
       "  </thead>\n",
       "  <tbody>\n",
       "    <tr>\n",
       "      <th>2023-02-08</th>\n",
       "      <td>105.240982</td>\n",
       "    </tr>\n",
       "    <tr>\n",
       "      <th>2023-02-09</th>\n",
       "      <td>103.578514</td>\n",
       "    </tr>\n",
       "    <tr>\n",
       "      <th>2023-02-10</th>\n",
       "      <td>100.070763</td>\n",
       "    </tr>\n",
       "    <tr>\n",
       "      <th>2023-02-13</th>\n",
       "      <td>96.926170</td>\n",
       "    </tr>\n",
       "    <tr>\n",
       "      <th>2023-02-14</th>\n",
       "      <td>95.364861</td>\n",
       "    </tr>\n",
       "    <tr>\n",
       "      <th>...</th>\n",
       "      <td>...</td>\n",
       "    </tr>\n",
       "    <tr>\n",
       "      <th>2023-11-03</th>\n",
       "      <td>127.699348</td>\n",
       "    </tr>\n",
       "    <tr>\n",
       "      <th>2023-11-06</th>\n",
       "      <td>128.451782</td>\n",
       "    </tr>\n",
       "    <tr>\n",
       "      <th>2023-11-07</th>\n",
       "      <td>129.162384</td>\n",
       "    </tr>\n",
       "    <tr>\n",
       "      <th>2023-11-08</th>\n",
       "      <td>129.849075</td>\n",
       "    </tr>\n",
       "    <tr>\n",
       "      <th>2023-11-09</th>\n",
       "      <td>130.571198</td>\n",
       "    </tr>\n",
       "  </tbody>\n",
       "</table>\n",
       "<p>191 rows × 1 columns</p>\n",
       "</div>"
      ],
      "text/plain": [
       "                     0\n",
       "Date                  \n",
       "2023-02-08  105.240982\n",
       "2023-02-09  103.578514\n",
       "2023-02-10  100.070763\n",
       "2023-02-13   96.926170\n",
       "2023-02-14   95.364861\n",
       "...                ...\n",
       "2023-11-03  127.699348\n",
       "2023-11-06  128.451782\n",
       "2023-11-07  129.162384\n",
       "2023-11-08  129.849075\n",
       "2023-11-09  130.571198\n",
       "\n",
       "[191 rows x 1 columns]"
      ]
     },
     "execution_count": 95,
     "metadata": {},
     "output_type": "execute_result"
    }
   ],
   "source": [
    "predictions = model.predict(X_test)\n",
    "predictions = sc.inverse_transform(predictions)\n",
    "test = sc.inverse_transform(test)\n",
    "train = sc.inverse_transform(train)\n",
    "train = pd.DataFrame(train, index=train_dates)\n",
    "test = pd.DataFrame(test, index=test_dates)\n",
    "predictions = pd.DataFrame(predictions, index=test_dates[look_back:])\n",
    "\n",
    "predictions\n",
    "\n",
    "# rmse = np.sqrt(np.mean(((predictions - test) ** 2)))\n",
    "# rmse\n"
   ]
  },
  {
   "cell_type": "code",
   "execution_count": 96,
   "metadata": {},
   "outputs": [
    {
     "data": {
      "image/png": "[encoded data removed]",
      "text/plain": [
       "<Figure size 640x480 with 1 Axes>"
      ]
     },
     "metadata": {},
     "output_type": "display_data"
    }
   ],
   "source": [
    "figure, axes = plt.subplots( 1 ) \n",
    "#axes.plot(train, color = 'black', label = 'Google Stock Price')\n",
    "\n",
    "axes.plot(test[59:], color = 'black', label = 'Google Stock Price')\n",
    "axes.plot(predictions, color = 'red', label = 'Predicted Google Stock Price')\n",
    "plt.title('Google Stock Price Prediction')\n",
    "plt.xlabel('Time')\n",
    "plt.ylabel('Google Stock Price')\n",
    "\n",
    "plt.legend()\n",
    "plt.show()"
   ]
  },
  {
   "cell_type": "code",
   "execution_count": 97,
   "metadata": {},
   "outputs": [],
   "source": [
    "# def predict(day):\n",
    "#     preds = []\n",
    "#     prev = train[len(train)-look_back:]\n",
    "#     i = 0\n",
    "#     while(i<day):\n",
    "        \n",
    "#     return model.predict(lookback)"
   ]
  },
  {
   "cell_type": "code",
   "execution_count": 98,
   "metadata": {},
   "outputs": [],
   "source": [
    "# t = predict(X_test)\n",
    "# t = sc.inverse_transform(t)\n",
    "# t"
   ]
  },
  {
   "cell_type": "code",
   "execution_count": 99,
   "metadata": {},
   "outputs": [
    {
     "data": {
      "text/plain": [
       "Date\n",
       "2022-10-06    102.239998\n",
       "2022-10-07     99.570000\n",
       "2022-10-10     98.709999\n",
       "2022-10-11     98.050003\n",
       "2022-10-12     98.300003\n",
       "2022-10-13     99.709999\n",
       "2022-10-14     97.180000\n",
       "2022-10-17    100.779999\n",
       "2022-10-18    101.389999\n",
       "2022-10-19    100.290001\n",
       "2022-10-20    100.529999\n",
       "2022-10-21    101.480003\n",
       "2022-10-24    102.970001\n",
       "2022-10-25    104.930000\n",
       "2022-10-26     94.820000\n",
       "2022-10-27     92.599998\n",
       "2022-10-28     96.580002\n",
       "2022-10-31     94.660004\n",
       "2022-11-01     90.500000\n",
       "2022-11-02     87.070000\n",
       "2022-11-03     83.489998\n",
       "2022-11-04     86.699997\n",
       "2022-11-07     88.650002\n",
       "2022-11-08     88.910004\n",
       "2022-11-09     87.400002\n",
       "2022-11-10     94.169998\n",
       "2022-11-11     96.730003\n",
       "2022-11-14     96.029999\n",
       "2022-11-15     98.720001\n",
       "2022-11-16     98.989998\n",
       "2022-11-17     98.500000\n",
       "2022-11-18     97.800003\n",
       "2022-11-21     95.830002\n",
       "2022-11-22     97.330002\n",
       "2022-11-23     98.820000\n",
       "2022-11-25     97.599998\n",
       "2022-11-28     96.250000\n",
       "2022-11-29     95.440002\n",
       "2022-11-30    101.449997\n",
       "2022-12-01    101.279999\n",
       "2022-12-02    100.830002\n",
       "2022-12-05     99.870003\n",
       "2022-12-06     97.309998\n",
       "2022-12-07     95.150002\n",
       "2022-12-08     93.949997\n",
       "2022-12-09     93.070000\n",
       "2022-12-12     93.559998\n",
       "2022-12-13     95.849998\n",
       "2022-12-14     95.309998\n",
       "2022-12-15     91.199997\n",
       "2022-12-16     90.860001\n",
       "2022-12-19     89.150002\n",
       "2022-12-20     89.629997\n",
       "2022-12-21     90.250000\n",
       "2022-12-22     88.260002\n",
       "2022-12-23     89.809998\n",
       "2022-12-27     87.930000\n",
       "2022-12-28     86.459999\n",
       "2022-12-29     88.949997\n",
       "2022-12-30     88.730003\n",
       "Name: Close, dtype: float64"
      ]
     },
     "execution_count": 99,
     "metadata": {},
     "output_type": "execute_result"
    }
   ],
   "source": [
    "traindf[len(train)-60:].Close"
   ]
  }
 ],
 "metadata": {
  "kernelspec": {
   "display_name": "tf",
   "language": "python",
   "name": "python3"
  },
  "language_info": {
   "codemirror_mode": {
    "name": "ipython",
    "version": 3
   },
   "file_extension": ".py",
   "mimetype": "text/x-python",
   "name": "python",
   "nbconvert_exporter": "python",
   "pygments_lexer": "ipython3",
   "version": "3.11.5"
  }
 },
 "nbformat": 4,
 "nbformat_minor": 2
}
